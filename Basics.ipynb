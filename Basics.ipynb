{
 "cells": [
  {
   "cell_type": "markdown",
   "id": "52d4a4ef-9a98-4cf9-a25c-765a8df44fa0",
   "metadata": {},
   "source": [
    "# BASICS OF `PYTHON` PROGRAMMING\n",
    "\n",
    "In this notebook we will explain basic `Python` for Machine Learning."
   ]
  },
  {
   "cell_type": "markdown",
   "id": "e3cab321-b965-41ac-8f6b-02fee9a2d09e",
   "metadata": {
    "tags": []
   },
   "source": [
    "## DERIVED DATA TYPES IN `PYTHON`"
   ]
  },
  {
   "cell_type": "markdown",
   "id": "8aa108ec-aa5d-49cf-bba0-7b042ff641c7",
   "metadata": {},
   "source": [
    ">**NOTE:** IN PYTHON `int`,`float`,`str`.. ARE ATOMIC DATA TYPES AND NO DECLARATION IS REQUIRED."
   ]
  },
  {
   "cell_type": "markdown",
   "id": "13917ab2-61fb-46ca-a72e-d5073802929a",
   "metadata": {},
   "source": [
    "## LIST"
   ]
  },
  {
   "cell_type": "code",
   "execution_count": 1,
   "id": "5fef0872-0ad6-4d36-a519-f800130b1f1b",
   "metadata": {},
   "outputs": [],
   "source": [
    "my_list=[1,2,3]"
   ]
  },
  {
   "cell_type": "code",
   "execution_count": 2,
   "id": "316dbb9e-83aa-4481-b0ed-f3f0db79256a",
   "metadata": {},
   "outputs": [
    {
     "data": {
      "text/plain": [
       "[1, 2, 3]"
      ]
     },
     "execution_count": 2,
     "metadata": {},
     "output_type": "execute_result"
    }
   ],
   "source": [
    "my_list"
   ]
  },
  {
   "cell_type": "code",
   "execution_count": 3,
   "id": "6b46257f-5def-4c31-bf30-b3ea0987616c",
   "metadata": {},
   "outputs": [],
   "source": [
    "my_list=[1,'a',2,'b',3,'c']"
   ]
  },
  {
   "cell_type": "code",
   "execution_count": 4,
   "id": "f51a9422-773d-4cd1-a126-34d7ba92e0df",
   "metadata": {},
   "outputs": [
    {
     "data": {
      "text/plain": [
       "[1, 'a', 2, 'b', 3, 'c']"
      ]
     },
     "execution_count": 4,
     "metadata": {},
     "output_type": "execute_result"
    }
   ],
   "source": [
    "my_list"
   ]
  },
  {
   "cell_type": "code",
   "execution_count": 5,
   "id": "a56f67fb-fa15-4185-b60c-eedd2cf77220",
   "metadata": {},
   "outputs": [
    {
     "data": {
      "text/plain": [
       "1"
      ]
     },
     "execution_count": 5,
     "metadata": {},
     "output_type": "execute_result"
    }
   ],
   "source": [
    "my_list[0]"
   ]
  },
  {
   "cell_type": "code",
   "execution_count": 6,
   "id": "ad1b184d-bbda-4b9c-90e5-d5d7d69a7c0d",
   "metadata": {},
   "outputs": [],
   "source": [
    "my_list=[1,2,[100,200]]"
   ]
  },
  {
   "cell_type": "code",
   "execution_count": 7,
   "id": "8ee6dd5c-0637-4598-8c11-dc275e226109",
   "metadata": {},
   "outputs": [
    {
     "data": {
      "text/plain": [
       "[1, 2, [100, 200]]"
      ]
     },
     "execution_count": 7,
     "metadata": {},
     "output_type": "execute_result"
    }
   ],
   "source": [
    "my_list"
   ]
  },
  {
   "cell_type": "code",
   "execution_count": 8,
   "id": "6e4b9125-338c-4c64-a384-7557c25aa38a",
   "metadata": {},
   "outputs": [
    {
     "data": {
      "text/plain": [
       "[100, 200]"
      ]
     },
     "execution_count": 8,
     "metadata": {},
     "output_type": "execute_result"
    }
   ],
   "source": [
    "my_list[2]"
   ]
  },
  {
   "cell_type": "code",
   "execution_count": 9,
   "id": "b33e36e3-3f49-47c1-864e-cba08bd47b10",
   "metadata": {},
   "outputs": [
    {
     "data": {
      "text/plain": [
       "200"
      ]
     },
     "execution_count": 9,
     "metadata": {},
     "output_type": "execute_result"
    }
   ],
   "source": [
    "my_list[2][1]"
   ]
  },
  {
   "cell_type": "code",
   "execution_count": 12,
   "id": "d43b4620-3414-4255-b0ad-7190763a8f29",
   "metadata": {},
   "outputs": [],
   "source": [
    "my_list=['a','b','c','d']"
   ]
  },
  {
   "cell_type": "code",
   "execution_count": 13,
   "id": "2c5e3be0-9a34-4ca4-8e2d-67db6dfd050f",
   "metadata": {},
   "outputs": [
    {
     "data": {
      "text/plain": [
       "['a']"
      ]
     },
     "execution_count": 13,
     "metadata": {},
     "output_type": "execute_result"
    }
   ],
   "source": [
    "my_list[:1]"
   ]
  },
  {
   "cell_type": "code",
   "execution_count": 14,
   "id": "bba5c60c-9448-4193-9f82-3d3a25ab356f",
   "metadata": {},
   "outputs": [
    {
     "data": {
      "text/plain": [
       "['a', 'b', 'c', 'd']"
      ]
     },
     "execution_count": 14,
     "metadata": {},
     "output_type": "execute_result"
    }
   ],
   "source": [
    "my_list"
   ]
  },
  {
   "cell_type": "code",
   "execution_count": 15,
   "id": "4141662c-081d-4c44-8af1-8afa730f3f48",
   "metadata": {},
   "outputs": [],
   "source": [
    "my_list[0]=\"new\""
   ]
  },
  {
   "cell_type": "code",
   "execution_count": 16,
   "id": "7cd634d5-eccf-44e0-ad86-bb37c32114ef",
   "metadata": {},
   "outputs": [
    {
     "data": {
      "text/plain": [
       "['new', 'b', 'c', 'd']"
      ]
     },
     "execution_count": 16,
     "metadata": {},
     "output_type": "execute_result"
    }
   ],
   "source": [
    "my_list"
   ]
  },
  {
   "cell_type": "code",
   "execution_count": 17,
   "id": "aef273ac-2ff4-49c7-8d52-e0b3b79daaf4",
   "metadata": {},
   "outputs": [],
   "source": [
    "my_list.append('e')"
   ]
  },
  {
   "cell_type": "code",
   "execution_count": 18,
   "id": "6a082bb6-d9e4-4b90-a189-2a85b1356441",
   "metadata": {},
   "outputs": [
    {
     "data": {
      "text/plain": [
       "['new', 'b', 'c', 'd', 'e']"
      ]
     },
     "execution_count": 18,
     "metadata": {},
     "output_type": "execute_result"
    }
   ],
   "source": [
    "my_list"
   ]
  },
  {
   "cell_type": "markdown",
   "id": "373c7023-e6f2-419b-89a7-3f45d5e6aa13",
   "metadata": {},
   "source": [
    "## TUPLE"
   ]
  },
  {
   "cell_type": "code",
   "execution_count": 19,
   "id": "71c8d635-1c6c-4a0a-b44d-0070b1a8d8c3",
   "metadata": {},
   "outputs": [],
   "source": [
    "t=(1,2,3)"
   ]
  },
  {
   "cell_type": "code",
   "execution_count": 20,
   "id": "d61bd4e8-de2d-4173-b775-90f2ba37d9a5",
   "metadata": {},
   "outputs": [
    {
     "data": {
      "text/plain": [
       "(1, 2, 3)"
      ]
     },
     "execution_count": 20,
     "metadata": {},
     "output_type": "execute_result"
    }
   ],
   "source": [
    "t"
   ]
  },
  {
   "cell_type": "code",
   "execution_count": 21,
   "id": "e5d5a4f8-fe6d-4cc3-8cc4-fc048681525c",
   "metadata": {},
   "outputs": [
    {
     "ename": "TypeError",
     "evalue": "'tuple' object does not support item assignment",
     "output_type": "error",
     "traceback": [
      "\u001b[0;31m---------------------------------------------------------------------------\u001b[0m",
      "\u001b[0;31mTypeError\u001b[0m                                 Traceback (most recent call last)",
      "Cell \u001b[0;32mIn[21], line 1\u001b[0m\n\u001b[0;32m----> 1\u001b[0m \u001b[43mt\u001b[49m\u001b[43m[\u001b[49m\u001b[38;5;241;43m0\u001b[39;49m\u001b[43m]\u001b[49m\u001b[38;5;241m=\u001b[39m\u001b[38;5;124m\"\u001b[39m\u001b[38;5;124mnew\u001b[39m\u001b[38;5;124m\"\u001b[39m\n",
      "\u001b[0;31mTypeError\u001b[0m: 'tuple' object does not support item assignment"
     ]
    }
   ],
   "source": [
    "t[0]=\"new\""
   ]
  },
  {
   "cell_type": "markdown",
   "id": "d93421ed-8a49-4840-be2c-fcda20a545a9",
   "metadata": {},
   "source": [
    "## DICTIONARY"
   ]
  },
  {
   "cell_type": "code",
   "execution_count": 22,
   "id": "5c577167-ea69-4526-87ff-6ab07ee2e637",
   "metadata": {},
   "outputs": [],
   "source": [
    "d={'Name':'Rizia','age':19}"
   ]
  },
  {
   "cell_type": "code",
   "execution_count": 23,
   "id": "c7a53f4f-75b3-4ed8-a121-0d057d887a50",
   "metadata": {},
   "outputs": [
    {
     "data": {
      "text/plain": [
       "{'Name': 'Rizia', 'age': 19}"
      ]
     },
     "execution_count": 23,
     "metadata": {},
     "output_type": "execute_result"
    }
   ],
   "source": [
    "d"
   ]
  },
  {
   "cell_type": "code",
   "execution_count": 24,
   "id": "405b3574-bd72-44df-b95a-9a93f0af4e1f",
   "metadata": {},
   "outputs": [
    {
     "data": {
      "text/plain": [
       "19"
      ]
     },
     "execution_count": 24,
     "metadata": {},
     "output_type": "execute_result"
    }
   ],
   "source": [
    "d['age']"
   ]
  },
  {
   "cell_type": "code",
   "execution_count": 25,
   "id": "737188c1-b385-406e-bff0-7316b6df3fb6",
   "metadata": {},
   "outputs": [
    {
     "data": {
      "text/plain": [
       "'Rizia'"
      ]
     },
     "execution_count": 25,
     "metadata": {},
     "output_type": "execute_result"
    }
   ],
   "source": [
    "d['Name']"
   ]
  },
  {
   "cell_type": "code",
   "execution_count": 26,
   "id": "3a320c58-da5f-476c-8afe-0e0c4fb6dc60",
   "metadata": {},
   "outputs": [
    {
     "data": {
      "text/plain": [
       "{1, 2, 3, 4}"
      ]
     },
     "execution_count": 26,
     "metadata": {},
     "output_type": "execute_result"
    }
   ],
   "source": [
    "{1,2,3,1,1,2,2,2,4,4,3}"
   ]
  },
  {
   "cell_type": "code",
   "execution_count": 28,
   "id": "e0e82e7e-5481-4450-abd0-deff99adae52",
   "metadata": {},
   "outputs": [],
   "source": [
    "def times2(var):\n",
    "    return var*2"
   ]
  },
  {
   "cell_type": "code",
   "execution_count": 29,
   "id": "9919d0d2-be04-4340-9a0a-d10e1faef442",
   "metadata": {},
   "outputs": [
    {
     "data": {
      "text/plain": [
       "4"
      ]
     },
     "execution_count": 29,
     "metadata": {},
     "output_type": "execute_result"
    }
   ],
   "source": [
    "times2(2)"
   ]
  },
  {
   "cell_type": "code",
   "execution_count": 30,
   "id": "c86e4524-b88b-452a-9f0d-76c28707181f",
   "metadata": {},
   "outputs": [],
   "source": [
    "times2=lambda var:var*2"
   ]
  },
  {
   "cell_type": "code",
   "execution_count": 31,
   "id": "dc6d250e-e641-427f-8607-4b1e2acce2ca",
   "metadata": {},
   "outputs": [
    {
     "name": "stdout",
     "output_type": "stream",
     "text": [
      "4\n"
     ]
    }
   ],
   "source": [
    "print(times2(2))"
   ]
  },
  {
   "cell_type": "code",
   "execution_count": 32,
   "id": "27685365-f4a0-4185-a422-a697df41754a",
   "metadata": {},
   "outputs": [],
   "source": [
    "x=[1,2,3,4]"
   ]
  },
  {
   "cell_type": "code",
   "execution_count": 33,
   "id": "a1b4afe8-0883-41ce-aa42-2e8e78acdba3",
   "metadata": {},
   "outputs": [
    {
     "name": "stdout",
     "output_type": "stream",
     "text": [
      "[1, 4, 9, 16]\n"
     ]
    }
   ],
   "source": [
    "out=[]\n",
    "for item in x:\n",
    "    out.append(item**2)\n",
    "print(out)"
   ]
  },
  {
   "cell_type": "code",
   "execution_count": 34,
   "id": "dedddef7-6eb3-4571-9374-238d5f4021b4",
   "metadata": {},
   "outputs": [
    {
     "data": {
      "text/plain": [
       "[1, 4, 9, 16]"
      ]
     },
     "execution_count": 34,
     "metadata": {},
     "output_type": "execute_result"
    }
   ],
   "source": [
    "[item**2 for item in x]"
   ]
  },
  {
   "cell_type": "code",
   "execution_count": 36,
   "id": "0c45917c-c5fa-41a7-a407-39b3427ddc7c",
   "metadata": {},
   "outputs": [
    {
     "name": "stdout",
     "output_type": "stream",
     "text": [
      "My name is:Rizia,my number is:42\n"
     ]
    }
   ],
   "source": [
    "print(\"My name is:{1},my number is:{0}\".format('42','Rizia'))"
   ]
  },
  {
   "cell_type": "code",
   "execution_count": null,
   "id": "e26c4233-a337-4c46-8e67-9c2471971275",
   "metadata": {},
   "outputs": [],
   "source": []
  }
 ],
 "metadata": {
  "kernelspec": {
   "display_name": "Python 3 (Intel® oneAPI 2023.2)",
   "language": "python",
   "name": "c009-intel_distribution_of_python_3_oneapi-beta05-python"
  },
  "language_info": {
   "codemirror_mode": {
    "name": "ipython",
    "version": 3
   },
   "file_extension": ".py",
   "mimetype": "text/x-python",
   "name": "python",
   "nbconvert_exporter": "python",
   "pygments_lexer": "ipython3",
   "version": "3.9.16"
  }
 },
 "nbformat": 4,
 "nbformat_minor": 5
}
